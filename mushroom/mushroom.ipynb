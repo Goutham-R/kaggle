{
 "cells": [
  {
   "cell_type": "code",
   "execution_count": 1,
   "metadata": {},
   "outputs": [],
   "source": [
    "import pandas as pd\n",
    "import numpy as np"
   ]
  },
  {
   "cell_type": "code",
   "execution_count": 2,
   "metadata": {},
   "outputs": [
    {
     "output_type": "execute_result",
     "data": {
      "text/plain": "  class cap-shape cap-surface cap-color bruises odor gill-attachment  \\\n0     p         x           s         n       t    p               f   \n1     e         x           s         y       t    a               f   \n2     e         b           s         w       t    l               f   \n3     p         x           y         w       t    p               f   \n4     e         x           s         g       f    n               f   \n\n  gill-spacing gill-size gill-color  ... stalk-surface-below-ring  \\\n0            c         n          k  ...                        s   \n1            c         b          k  ...                        s   \n2            c         b          n  ...                        s   \n3            c         n          n  ...                        s   \n4            w         b          k  ...                        s   \n\n  stalk-color-above-ring stalk-color-below-ring veil-type veil-color  \\\n0                      w                      w         p          w   \n1                      w                      w         p          w   \n2                      w                      w         p          w   \n3                      w                      w         p          w   \n4                      w                      w         p          w   \n\n  ring-number ring-type spore-print-color population habitat  \n0           o         p                 k          s       u  \n1           o         p                 n          n       g  \n2           o         p                 n          n       m  \n3           o         p                 k          s       u  \n4           o         e                 n          a       g  \n\n[5 rows x 23 columns]",
      "text/html": "<div>\n<style scoped>\n    .dataframe tbody tr th:only-of-type {\n        vertical-align: middle;\n    }\n\n    .dataframe tbody tr th {\n        vertical-align: top;\n    }\n\n    .dataframe thead th {\n        text-align: right;\n    }\n</style>\n<table border=\"1\" class=\"dataframe\">\n  <thead>\n    <tr style=\"text-align: right;\">\n      <th></th>\n      <th>class</th>\n      <th>cap-shape</th>\n      <th>cap-surface</th>\n      <th>cap-color</th>\n      <th>bruises</th>\n      <th>odor</th>\n      <th>gill-attachment</th>\n      <th>gill-spacing</th>\n      <th>gill-size</th>\n      <th>gill-color</th>\n      <th>...</th>\n      <th>stalk-surface-below-ring</th>\n      <th>stalk-color-above-ring</th>\n      <th>stalk-color-below-ring</th>\n      <th>veil-type</th>\n      <th>veil-color</th>\n      <th>ring-number</th>\n      <th>ring-type</th>\n      <th>spore-print-color</th>\n      <th>population</th>\n      <th>habitat</th>\n    </tr>\n  </thead>\n  <tbody>\n    <tr>\n      <th>0</th>\n      <td>p</td>\n      <td>x</td>\n      <td>s</td>\n      <td>n</td>\n      <td>t</td>\n      <td>p</td>\n      <td>f</td>\n      <td>c</td>\n      <td>n</td>\n      <td>k</td>\n      <td>...</td>\n      <td>s</td>\n      <td>w</td>\n      <td>w</td>\n      <td>p</td>\n      <td>w</td>\n      <td>o</td>\n      <td>p</td>\n      <td>k</td>\n      <td>s</td>\n      <td>u</td>\n    </tr>\n    <tr>\n      <th>1</th>\n      <td>e</td>\n      <td>x</td>\n      <td>s</td>\n      <td>y</td>\n      <td>t</td>\n      <td>a</td>\n      <td>f</td>\n      <td>c</td>\n      <td>b</td>\n      <td>k</td>\n      <td>...</td>\n      <td>s</td>\n      <td>w</td>\n      <td>w</td>\n      <td>p</td>\n      <td>w</td>\n      <td>o</td>\n      <td>p</td>\n      <td>n</td>\n      <td>n</td>\n      <td>g</td>\n    </tr>\n    <tr>\n      <th>2</th>\n      <td>e</td>\n      <td>b</td>\n      <td>s</td>\n      <td>w</td>\n      <td>t</td>\n      <td>l</td>\n      <td>f</td>\n      <td>c</td>\n      <td>b</td>\n      <td>n</td>\n      <td>...</td>\n      <td>s</td>\n      <td>w</td>\n      <td>w</td>\n      <td>p</td>\n      <td>w</td>\n      <td>o</td>\n      <td>p</td>\n      <td>n</td>\n      <td>n</td>\n      <td>m</td>\n    </tr>\n    <tr>\n      <th>3</th>\n      <td>p</td>\n      <td>x</td>\n      <td>y</td>\n      <td>w</td>\n      <td>t</td>\n      <td>p</td>\n      <td>f</td>\n      <td>c</td>\n      <td>n</td>\n      <td>n</td>\n      <td>...</td>\n      <td>s</td>\n      <td>w</td>\n      <td>w</td>\n      <td>p</td>\n      <td>w</td>\n      <td>o</td>\n      <td>p</td>\n      <td>k</td>\n      <td>s</td>\n      <td>u</td>\n    </tr>\n    <tr>\n      <th>4</th>\n      <td>e</td>\n      <td>x</td>\n      <td>s</td>\n      <td>g</td>\n      <td>f</td>\n      <td>n</td>\n      <td>f</td>\n      <td>w</td>\n      <td>b</td>\n      <td>k</td>\n      <td>...</td>\n      <td>s</td>\n      <td>w</td>\n      <td>w</td>\n      <td>p</td>\n      <td>w</td>\n      <td>o</td>\n      <td>e</td>\n      <td>n</td>\n      <td>a</td>\n      <td>g</td>\n    </tr>\n  </tbody>\n</table>\n<p>5 rows × 23 columns</p>\n</div>"
     },
     "metadata": {},
     "execution_count": 2
    }
   ],
   "source": [
    "df=pd.read_csv(\"mushrooms.csv\")\n",
    "df.head()"
   ]
  },
  {
   "cell_type": "code",
   "execution_count": 3,
   "metadata": {},
   "outputs": [],
   "source": [
    "df=pd.get_dummies(df)"
   ]
  },
  {
   "cell_type": "code",
   "execution_count": 4,
   "metadata": {},
   "outputs": [
    {
     "output_type": "execute_result",
     "data": {
      "text/plain": "array(['class_e', 'class_p', 'cap-shape_b', 'cap-shape_c', 'cap-shape_f',\n       'cap-shape_k', 'cap-shape_s', 'cap-shape_x', 'cap-surface_f',\n       'cap-surface_g', 'cap-surface_s', 'cap-surface_y', 'cap-color_b',\n       'cap-color_c', 'cap-color_e', 'cap-color_g', 'cap-color_n',\n       'cap-color_p', 'cap-color_r', 'cap-color_u', 'cap-color_w',\n       'cap-color_y', 'bruises_f', 'bruises_t', 'odor_a', 'odor_c',\n       'odor_f', 'odor_l', 'odor_m', 'odor_n', 'odor_p', 'odor_s',\n       'odor_y', 'gill-attachment_a', 'gill-attachment_f',\n       'gill-spacing_c', 'gill-spacing_w', 'gill-size_b', 'gill-size_n',\n       'gill-color_b', 'gill-color_e', 'gill-color_g', 'gill-color_h',\n       'gill-color_k', 'gill-color_n', 'gill-color_o', 'gill-color_p',\n       'gill-color_r', 'gill-color_u', 'gill-color_w', 'gill-color_y',\n       'stalk-shape_e', 'stalk-shape_t', 'stalk-root_?', 'stalk-root_b',\n       'stalk-root_c', 'stalk-root_e', 'stalk-root_r',\n       'stalk-surface-above-ring_f', 'stalk-surface-above-ring_k',\n       'stalk-surface-above-ring_s', 'stalk-surface-above-ring_y',\n       'stalk-surface-below-ring_f', 'stalk-surface-below-ring_k',\n       'stalk-surface-below-ring_s', 'stalk-surface-below-ring_y',\n       'stalk-color-above-ring_b', 'stalk-color-above-ring_c',\n       'stalk-color-above-ring_e', 'stalk-color-above-ring_g',\n       'stalk-color-above-ring_n', 'stalk-color-above-ring_o',\n       'stalk-color-above-ring_p', 'stalk-color-above-ring_w',\n       'stalk-color-above-ring_y', 'stalk-color-below-ring_b',\n       'stalk-color-below-ring_c', 'stalk-color-below-ring_e',\n       'stalk-color-below-ring_g', 'stalk-color-below-ring_n',\n       'stalk-color-below-ring_o', 'stalk-color-below-ring_p',\n       'stalk-color-below-ring_w', 'stalk-color-below-ring_y',\n       'veil-type_p', 'veil-color_n', 'veil-color_o', 'veil-color_w',\n       'veil-color_y', 'ring-number_n', 'ring-number_o', 'ring-number_t',\n       'ring-type_e', 'ring-type_f', 'ring-type_l', 'ring-type_n',\n       'ring-type_p', 'spore-print-color_b', 'spore-print-color_h',\n       'spore-print-color_k', 'spore-print-color_n',\n       'spore-print-color_o', 'spore-print-color_r',\n       'spore-print-color_u', 'spore-print-color_w',\n       'spore-print-color_y', 'population_a', 'population_c',\n       'population_n', 'population_s', 'population_v', 'population_y',\n       'habitat_d', 'habitat_g', 'habitat_l', 'habitat_m', 'habitat_p',\n       'habitat_u', 'habitat_w'], dtype=object)"
     },
     "metadata": {},
     "execution_count": 4
    }
   ],
   "source": [
    "df.columns.values"
   ]
  },
  {
   "cell_type": "code",
   "execution_count": 5,
   "metadata": {},
   "outputs": [],
   "source": [
    "df.drop([\"class_p\",\"bruises_f\",\"gill-attachment_a\",\"gill-spacing_c\",'gill-size_b','stalk-shape_e'],axis=1,inplace=True)"
   ]
  },
  {
   "cell_type": "code",
   "execution_count": 8,
   "metadata": {},
   "outputs": [
    {
     "output_type": "execute_result",
     "data": {
      "text/plain": "(8124, 112)"
     },
     "metadata": {},
     "execution_count": 8
    }
   ],
   "source": [
    "x=df.iloc[:,1:].values\n",
    "y=df.iloc[:,0].values\n",
    "x=np.array(x).copy()\n",
    "y=np.array(y).copy()\n",
    "x.shape"
   ]
  },
  {
   "cell_type": "code",
   "execution_count": null,
   "metadata": {},
   "outputs": [],
   "source": [
    "from sklearn.model_selection import train_test_split\n",
    "x_train,x_test,y_train,y_test=train_test_split(x,y,test_size=0.3,shuffle=True,random_state=69)"
   ]
  },
  {
   "cell_type": "code",
   "execution_count": null,
   "metadata": {},
   "outputs": [],
   "source": [
    "from sklearn.ensemble import RandomForestClassifier,AdaBoostClassifier,BaggingClassifier,ExtraTreesClassifier\n",
    "from sklearn.neighbors import KNeighborsClassifier\n",
    "from sklearn.svm import SVC\n",
    "from sklearn.model_selection import cross_val_score"
   ]
  },
  {
   "cell_type": "code",
   "execution_count": null,
   "metadata": {
    "tags": []
   },
   "outputs": [],
   "source": [
    "models=[RandomForestClassifier(),AdaBoostClassifier(),BaggingClassifier(),ExtraTreesClassifier(),SVC(),KNeighborsClassifier()]\n",
    "names=[\"RandomForestClassifier()\",\"AdaBoostClassifier()\",\"BaggingClassifier()\",\"ExtraTreesClassifier()\",\"SVC()\",\"KNeighborsClassifier()\"]\n",
    "scores=[]\n",
    "for model in models:\n",
    "    score=cross_val_score(model,X=x,y=y,cv=10,scoring=\"accuracy\").mean()\n",
    "    scores.append(score)    \n",
    "result=pd.DataFrame(scores,index=names,columns=[\"Scores\"]).sort_values(by=\"Scores\",ascending=False)\n",
    "print(result)"
   ]
  },
  {
   "cell_type": "code",
   "execution_count": null,
   "metadata": {},
   "outputs": [],
   "source": []
  }
 ],
 "metadata": {
  "language_info": {
   "codemirror_mode": {
    "name": "ipython",
    "version": 3
   },
   "file_extension": ".py",
   "mimetype": "text/x-python",
   "name": "python",
   "nbconvert_exporter": "python",
   "pygments_lexer": "ipython3",
   "version": "3.7.6-final"
  },
  "orig_nbformat": 2,
  "kernelspec": {
   "name": "python3",
   "display_name": "Python 3"
  }
 },
 "nbformat": 4,
 "nbformat_minor": 2
}